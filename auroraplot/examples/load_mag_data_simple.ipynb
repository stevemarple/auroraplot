{
 "metadata": {
  "name": "",
  "signature": "sha256:3d23082e5e2bc9134b70e22717fee197ed89f20b36e6af4203300672d1ea1286"
 },
 "nbformat": 3,
 "nbformat_minor": 0,
 "worksheets": [
  {
   "cells": [
    {
     "cell_type": "heading",
     "level": 1,
     "metadata": {},
     "source": [
      "Plot magnetometer data using `auroraplot`"
     ]
    },
    {
     "cell_type": "heading",
     "level": 2,
     "metadata": {},
     "source": [
      "Introduction"
     ]
    },
    {
     "cell_type": "markdown",
     "metadata": {},
     "source": [
      "This notebook demonstrates how to load and plot magnetometer data. To see the plots make sure you have enabled `pylab`. The easiest way to do this is to run ipython as:\n",
      "\n",
      "    ipython notebook --pylab=inline\n",
      "    \n",
      "then all of the plots will appear in the browser window. We'll start by loading all of the Python modules and packages which are needed:"
     ]
    },
    {
     "cell_type": "code",
     "collapsed": false,
     "input": [
      "# Operating system and time\n",
      "import os\n",
      "import time\n",
      "\n",
      "# Use numpy and matplotlib\n",
      "import numpy as np\n",
      "import matplotlib as mpl\n",
      "import matplotlib.pyplot as plt\n",
      "\n",
      "# Use auroraplot and select datasets\n",
      "import auroraplot as ap\n",
      "import auroraplot.dt64tools as dt64\n",
      "import auroraplot.magdata\n",
      "import auroraplot.datasets.aurorawatchnet\n",
      "import auroraplot.datasets.samnet\n",
      "import auroraplot.datasets.uit\n",
      "import auroraplot.datasets.dtu"
     ],
     "language": "python",
     "metadata": {},
     "outputs": [],
     "prompt_number": 1
    },
    {
     "cell_type": "markdown",
     "metadata": {},
     "source": [
      "## Time definitions\n",
      "\n",
      "In `auroraplot` all dates and times should be specified in coordinated universal time ([UTC](http://en.wikipedia.org/wiki/Coordinated_Universal_Time), sometimes called \"Zulu\"). It's important you let Python know that the time zone is UTC. Do this by including the lines below before setting any times.\n",
      "\n"
     ]
    },
    {
     "cell_type": "code",
     "collapsed": false,
     "input": [
      "# Set timezone appropriately to get intended np.datetime64 behaviour.\n",
      "os.environ['TZ'] = 'UTC'\n",
      "time.tzset()"
     ],
     "language": "python",
     "metadata": {},
     "outputs": [],
     "prompt_number": 2
    },
    {
     "cell_type": "markdown",
     "metadata": {},
     "source": [
      "Times are defined as `numpy` `datetime64` objects, by giving a string which has the format \n",
      "`<year>-<month>-<day_of_month>T<hour>:<minute>:<second>Z`, where `T` is a separator between the date and time of day parts and `Z` indicates that the timezone is coordinated universal time.\n",
      "\n",
      "Durations are `numpy timedelta64` objects, defined as pairs of value and units. Units can be `D` (day), `h`, (hours), `m` (minutes) and `s` (seconds).\n",
      "\n",
      "You can also use the strings `today`, and `now` for the current date and time. To get times for yesterday or tomorrow you must subtract or add a duration of 1 day to the value for today.\n",
      "\n",
      "Below are some examples. "
     ]
    },
    {
     "cell_type": "code",
     "collapsed": false,
     "input": [
      "# Start of year 2000\n",
      "y2000 = np.datetime64('2000-01-01T00:00:00Z')\n",
      "\n",
      "# 1 day duration\n",
      "day = np.timedelta64(1, 'D')\n",
      "\n",
      "# The same again, but defined using hours\n",
      "day = np.timedelta64(24, 'h')\n",
      "\n",
      "# Printing times and durations is simple\n",
      "print('y2000 is ' + str(y2000))\n",
      "today = np.datetime64('today')\n",
      "print('Today is ' + str(today))\n",
      "\n",
      "# Tomorrow is 24 hours after today\n",
      "tomorrow = today + day\n",
      "print('Tomorrow is ' + str(tomorrow))"
     ],
     "language": "python",
     "metadata": {},
     "outputs": [
      {
       "output_type": "stream",
       "stream": "stdout",
       "text": [
        "y2000 is 2000-01-01T00:00:00+0000\n",
        "Today is 2017-02-15\n",
        "Tomorrow is 2017-02-16T00:00+0000\n"
       ]
      }
     ],
     "prompt_number": 3
    },
    {
     "cell_type": "markdown",
     "metadata": {},
     "source": [
      "## Define the start and end times\n",
      "\n",
      "Now that we know how to define datetime64 and timedelta64 objects we'll use that knowledge to define the start and end times of the data we wish to plot. In `auroraplot` data intervals are defined with an inclusive start time and an exclusive end time. That means the data interval may contain data which began at the start time, and will include data that was recorded up to but not including the end time. To load data for a whole day the start time is midnight of the day whilst the end time is midnight of the following day."
     ]
    },
    {
     "cell_type": "code",
     "collapsed": false,
     "input": [
      "# Define the start time. This is inclusive so the data loaded may contain data recorded at this time.\n",
      "st = np.datetime64('2017-02-01T00:00:00Z')\n",
      "\n",
      "# Define the end time, remembering it is exclusive.\n",
      "# Make duration 1 day so just add a day to the start time.\n",
      "et = st + np.timedelta64(1, 'D')\n",
      "\n",
      "# Print the times\n",
      "print('The data start time is ' + str(st))\n",
      "print('The data end time is ' + str(et))"
     ],
     "language": "python",
     "metadata": {},
     "outputs": [
      {
       "output_type": "stream",
       "stream": "stdout",
       "text": [
        "The data start time is 2017-02-01T00:00:00+0000\n",
        "The data end time is 2017-02-02T00:00:00+0000\n"
       ]
      }
     ],
     "prompt_number": 4
    },
    {
     "cell_type": "markdown",
     "metadata": {},
     "source": [
      "## Load magnetometer data\n",
      "\n",
      "When data is used in `auroraplot` the user should not be concerned about loading files, the user simply specifies the time interval and the magnetometer network and site. It is the job of `auroraplot` to fetch and load the data. It might be that the data is loaded from files stored locallly or it could be that the data is fetched from a remote webserver. The default behaviour can be customised (advanced use, see `auroraplot_custom.py`). The location of data files can even be adjusted for each load command (see the `path` option to `load_data`).\n",
      "\n",
      "Let's start with an example."
     ]
    },
    {
     "cell_type": "code",
     "collapsed": false,
     "input": [
      "md = ap.load_data('AWN', 'LAN1', 'MagData', st, et)"
     ],
     "language": "python",
     "metadata": {},
     "outputs": [],
     "prompt_number": 5
    },
    {
     "cell_type": "markdown",
     "metadata": {},
     "source": [
      "The `load_data` command takes 5 options:\n",
      "\n",
      "1. The name of the network (a group of magnetometers operated by a single institution).\n",
      "2. The abbreviation for the magnetometer site. This is typically 3 or 4 letters long.\n",
      "3. The type of data being loaded. For magnetic field data this is always `MagData`.\n",
      "   For some magnetometers house-keeping information such as temperature and battery\n",
      "   voltage can also be loaded (use `TemperatureData` and `VoltageData` to access these).\n",
      "4. The start time, as a `numpy datetime64` object.\n",
      "5. The end time, as a `numpy datetime64` object.\n",
      "\n",
      "The `load_data` function returns an object containing the magnetic field values. It also includes various \"metadata\", including the times of the samples, the start and end times for the data interval, the magnetometer network name and site abbreviation.\n",
      "\n",
      "Data is easily plotted using the object's own `plot` function:"
     ]
    },
    {
     "cell_type": "code",
     "collapsed": false,
     "input": [
      "md.plot();"
     ],
     "language": "python",
     "metadata": {},
     "outputs": [
      {
       "metadata": {},
       "output_type": "display_data",
       "png": "[encoded data removed]",
       "text": [
        "<matplotlib.figure.Figure at 0x7f8e48680dd0>"
       ]
      }
     ],
     "prompt_number": 6
    },
    {
     "cell_type": "markdown",
     "metadata": {},
     "source": [
      "Notice how the `plot` function has labelled the x axis with time and automatically selected appropriate tick intervals. The y axis is also labelled with the magnetic field component and added the data units. Finally the plot title includes the data interval and the magnetometer network and site."
     ]
    }
   ],
   "metadata": {}
  }
 ]
}